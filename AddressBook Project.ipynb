{
 "cells": [
  {
   "cell_type": "code",
   "execution_count": 6,
   "metadata": {},
   "outputs": [],
   "source": [
    "import tkinter as tk"
   ]
  },
  {
   "cell_type": "code",
   "execution_count": 7,
   "metadata": {},
   "outputs": [],
   "source": [
    "from tkinter import *"
   ]
  },
  {
   "cell_type": "code",
   "execution_count": 8,
   "metadata": {},
   "outputs": [],
   "source": [
    "root = Tk()\n",
    "root.geometry('400x400')\n",
    "root.config(bg = 'Black')\n",
    "root.resizable(0,0)\n",
    "root.title('MyPhoneBook')\n",
    "contactlist = [\n",
    "    ['Parth Maheswari',  '0176738493'],\n",
    "    ['Anya Sharma',  '2684430000'],\n",
    "    ['Maheep Khanna',   '4338354432'],\n",
    "    ['Prisha Modi','6834552341'],\n",
    "    ['Rahul kaushik',   '1234852689'],\n",
    "    ['david Spencer' , '2119876543'],\n",
    "    ]\n",
    "Name = StringVar()\n",
    "Number = StringVar()\n",
    "frame = Frame(root)\n",
    "frame.pack(side = RIGHT)\n",
    "scroll = Scrollbar(frame, orient=VERTICAL)\n",
    "select = Listbox(frame, yscrollcommand=scroll.set, height=12)\n",
    "scroll.config (command=select.yview)\n",
    "scroll.pack(side=RIGHT, fill=Y)\n",
    "select.pack(side=LEFT,  fill=BOTH, expand=1)"
   ]
  },
  {
   "cell_type": "code",
   "execution_count": 9,
   "metadata": {},
   "outputs": [],
   "source": [
    "def Selected():\n",
    "    return int(select.curselection()[0])\n",
    "def AddContact():\n",
    "    contactlist.append([Name.get(), Number.get()])\n",
    "    Select_set()\n",
    "def EDIT():\n",
    "    contactlist[Selected()] = [Name.get(), Number.get()]\n",
    "    Select_set()\n",
    "def DELETE():\n",
    "    del contactlist[Selected()]\n",
    "    Select_set()\n",
    "def VIEW():\n",
    "    NAME, PHONE = contactlist[Selected()]\n",
    "    Name.set(NAME)\n",
    "    Number.set(PHONE)\n",
    "def EXIT():\n",
    "    root.destroy()\n",
    "def RESET():\n",
    "    Name.set('')\n",
    "    Number.set('')\n",
    "def Select_set() :\n",
    "    contactlist.sort()\n",
    "    select.delete(0,END)\n",
    "    for name,phone in contactlist :\n",
    "        select.insert (END, name)\n",
    "Select_set()"
   ]
  },
  {
   "cell_type": "code",
   "execution_count": null,
   "metadata": {},
   "outputs": [],
   "source": [
    "Label(root, text = 'NAME', font='arial 12 bold', bg = 'Green').place(x= 30, y=20)\n",
    "Entry(root, textvariable = Name).place(x= 100, y=20)\n",
    "Label(root, text = 'PHONE NO.', font='arial 12 bold',bg = 'Green').place(x= 30, y=70)\n",
    "Entry(root, textvariable = Number).place(x= 130, y=70)\n",
    "Button(root,text=\" ADD\", font='arial 12 bold',bg='Green', command = AddContact).place(x= 50, y=110)\n",
    "Button(root,text=\"EDIT\", font='arial 12 bold',bg='Green',command = EDIT).place(x= 50, y=260)\n",
    "Button(root,text=\"DELETE\", font='arial 12 bold',bg='Green',command = DELETE).place(x= 50, y=210)\n",
    "Button(root,text=\"VIEW\", font='arial 12 bold',bg='Green', command = VIEW).place(x= 50, y=160)\n",
    "Button(root,text=\"EXIT\", font='arial 12 bold',bg='tomato', command = EXIT).place(x= 300, y=320)\n",
    "Button(root,text=\"RESET\", font='arial 12 bold',bg='Green', command = RESET).place(x= 50, y=310)\n",
    "root.mainloop()"
   ]
  },
  {
   "cell_type": "code",
   "execution_count": null,
   "metadata": {},
   "outputs": [],
   "source": []
  }
 ],
 "metadata": {
  "kernelspec": {
   "display_name": "Python 3",
   "language": "python",
   "name": "python3"
  },
  "language_info": {
   "codemirror_mode": {
    "name": "ipython",
    "version": 3
   },
   "file_extension": ".py",
   "mimetype": "text/x-python",
   "name": "python",
   "nbconvert_exporter": "python",
   "pygments_lexer": "ipython3",
   "version": "3.7.6"
  }
 },
 "nbformat": 4,
 "nbformat_minor": 4
}
